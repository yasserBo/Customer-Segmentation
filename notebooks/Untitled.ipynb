{
 "cells": [
  {
   "cell_type": "code",
   "execution_count": null,
   "id": "b6611867-b191-4562-823d-278d3c27b5b2",
   "metadata": {},
   "outputs": [],
   "source": []
  }
 ],
 "metadata": {
  "kernelspec": {
   "display_name": "",
   "name": ""
  },
  "language_info": {
   "name": ""
  }
 },
 "nbformat": 4,
 "nbformat_minor": 5
}
